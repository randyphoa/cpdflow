{
 "cells": [
  {
   "cell_type": "markdown",
   "metadata": {},
   "source": [
    "# German Credit Risk"
   ]
  },
  {
   "cell_type": "markdown",
   "metadata": {},
   "source": [
    "A data scientist is working on 5 models,\n",
    "\n",
    "1. German Credit Risk-SGD - Stochastic gradient descent classifer\n",
    "2. German Credit Risk-RF - Random forest classifer\n",
    "3. German Credit Risk-SVC - Support vector classifer\n",
    "4. German Credit Risk-custom - Custom ML model hosted externally\n",
    "5. German Credit Risk-GBC - Gradient boosting classifer\n",
    "\n",
    "Assume the following tasks,\n",
    "\n",
    "- Store German Credit Risk-SGD in the project space\n",
    "\n",
    "- Deploy German Credit Risk-RF to the development space\n",
    "\n",
    "- Validate German Credit Risk-SVC and German Credit Risk-custom in the development enviroment\n",
    "\n",
    "- Operate German Credit Risk-GBC in the production enviroment"
   ]
  },
  {
   "cell_type": "code",
   "execution_count": null,
   "metadata": {},
   "outputs": [],
   "source": [
    "! pip install cpdflow"
   ]
  },
  {
   "cell_type": "markdown",
   "metadata": {},
   "source": [
    "## Import libraries"
   ]
  },
  {
   "cell_type": "code",
   "execution_count": null,
   "metadata": {},
   "outputs": [],
   "source": [
    "import json\n",
    "import logging\n",
    "import cpdflow\n",
    "import pandas as pd\n",
    "from IPython.display import display\n",
    "\n",
    "logging.getLogger(\"cpdflow\").setLevel(logging.INFO)"
   ]
  },
  {
   "cell_type": "markdown",
   "metadata": {},
   "source": [
    "## Model script"
   ]
  },
  {
   "cell_type": "code",
   "execution_count": null,
   "metadata": {},
   "outputs": [],
   "source": [
    "%%writefile german-credit-risk-sgd.py\n",
    "\n",
    "import pandas as pd\n",
    "from sklearn.compose import ColumnTransformer\n",
    "from sklearn.linear_model import SGDClassifier\n",
    "from sklearn.pipeline import Pipeline\n",
    "from sklearn.preprocessing import OneHotEncoder, StandardScaler\n",
    "from cpdflow.model.model import get_input_data_schema\n",
    "\n",
    "df = pd.read_csv(\"https://raw.githubusercontent.com/randyphoa/cpdflow/main/examples/german_credit_data_biased_training.csv\")\n",
    "target = \"Risk\"\n",
    "protected_attributes = [\"Age\"]\n",
    "y = df[target]\n",
    "X = df.drop([target] + protected_attributes, axis=1)\n",
    "ct = ColumnTransformer([(\"ohe\", OneHotEncoder(), X.select_dtypes(include=[\"object\"]).columns.tolist())])\n",
    "scaler = StandardScaler(with_mean=False)\n",
    "\n",
    "model = Pipeline([(\"ct\", ct), (\"scaler\", scaler), (\"clf\", SGDClassifier(loss=\"modified_huber\"))]).fit(X, y)\n",
    "input_data_schema = get_input_data_schema(X=X)\n",
    "custom_metrics = {\n",
    "    \"average_precision\": 0.9\n",
    "}"
   ]
  },
  {
   "cell_type": "code",
   "execution_count": null,
   "metadata": {},
   "outputs": [],
   "source": [
    "%%writefile german-credit-risk-rf.py\n",
    "\n",
    "import pandas as pd\n",
    "from sklearn.compose import ColumnTransformer\n",
    "from sklearn.ensemble import RandomForestClassifier\n",
    "from sklearn.pipeline import Pipeline\n",
    "from sklearn.preprocessing import OneHotEncoder\n",
    "from cpdflow.model.model import get_input_data_schema\n",
    "\n",
    "df = pd.read_csv(\"https://raw.githubusercontent.com/randyphoa/cpdflow/main/examples/german_credit_data_biased_training.csv\")\n",
    "target = \"Risk\"\n",
    "protected_attributes = [\"Age\"]\n",
    "y = df[target]\n",
    "X = df.drop([target] + protected_attributes, axis=1)\n",
    "ct = ColumnTransformer([(\"ohe\", OneHotEncoder(), X.select_dtypes(include=[\"object\"]).columns.tolist())])\n",
    "\n",
    "model = Pipeline([(\"ct\", ct), (\"clf\", RandomForestClassifier())]).fit(X, y)\n",
    "input_data_schema = get_input_data_schema(X=X)\n",
    "custom_metrics = {\n",
    "    \"average_precision\": 0.9\n",
    "}"
   ]
  },
  {
   "cell_type": "code",
   "execution_count": null,
   "metadata": {},
   "outputs": [],
   "source": [
    "%%writefile german-credit-risk-svc.py\n",
    "\n",
    "import pandas as pd\n",
    "from sklearn.compose import ColumnTransformer\n",
    "from sklearn.svm import SVC\n",
    "from sklearn.pipeline import Pipeline\n",
    "from sklearn.preprocessing import OneHotEncoder, StandardScaler\n",
    "from cpdflow.model.model import get_input_data_schema\n",
    "\n",
    "df = pd.read_csv(\"https://raw.githubusercontent.com/randyphoa/cpdflow/main/examples/german_credit_data_biased_training.csv\")\n",
    "target = \"Risk\"\n",
    "protected_attributes = [\"Age\"]\n",
    "y = df[target]\n",
    "X = df.drop([target] + protected_attributes, axis=1)\n",
    "ct = ColumnTransformer([(\"ohe\", OneHotEncoder(), X.select_dtypes(include=[\"object\"]).columns.tolist())])\n",
    "scaler = StandardScaler(with_mean=False)\n",
    "\n",
    "model = Pipeline([(\"ct\", ct), (\"scaler\", scaler), (\"clf\", SVC(probability=True))]).fit(X, y)\n",
    "input_data_schema = get_input_data_schema(X=X)\n",
    "custom_metrics = {\n",
    "    \"average_precision\": 0.9\n",
    "}"
   ]
  },
  {
   "cell_type": "code",
   "execution_count": null,
   "metadata": {},
   "outputs": [],
   "source": [
    "%%writefile german-credit-risk-gbc.py\n",
    "\n",
    "import pandas as pd\n",
    "from sklearn.compose import ColumnTransformer\n",
    "from sklearn.ensemble import GradientBoostingClassifier\n",
    "from sklearn.pipeline import Pipeline\n",
    "from sklearn.preprocessing import OneHotEncoder\n",
    "from cpdflow.model.model import get_input_data_schema\n",
    "\n",
    "df = pd.read_csv(\"https://raw.githubusercontent.com/randyphoa/cpdflow/main/examples/german_credit_data_biased_training.csv\")\n",
    "target = \"Risk\"\n",
    "protected_attributes = [\"Age\"]\n",
    "y = df[target]\n",
    "X = df.drop([target] + protected_attributes, axis=1)\n",
    "ct = ColumnTransformer([(\"ohe\", OneHotEncoder(), X.select_dtypes(include=[\"object\"]).columns.tolist())])\n",
    "\n",
    "model = Pipeline([(\"ct\", ct), (\"clf\", GradientBoostingClassifier())]).fit(X, y)\n",
    "input_data_schema = get_input_data_schema(X=X)\n",
    "custom_metrics = {\n",
    "    \"average_precision\": 0.9\n",
    "}"
   ]
  },
  {
   "cell_type": "code",
   "execution_count": null,
   "metadata": {},
   "outputs": [],
   "source": [
    "%%writefile german-credit-risk-custom.py\n",
    "\n",
    "import pandas as pd\n",
    "from cpdflow.model.model import get_input_data_schema\n",
    "\n",
    "df = pd.read_csv(\"https://raw.githubusercontent.com/randyphoa/cpdflow/main/examples/german_credit_data_biased_training.csv\")\n",
    "target = \"Risk\"\n",
    "protected_attributes = [\"Age\"]\n",
    "y = df[target]\n",
    "X = df.drop([target] + protected_attributes, axis=1)\n",
    "\n",
    "input_data_schema = get_input_data_schema(X=X)\n",
    "custom_metrics = {\"average_precision\": 0.9}"
   ]
  },
  {
   "cell_type": "markdown",
   "metadata": {},
   "source": [
    "## Read data"
   ]
  },
  {
   "cell_type": "code",
   "execution_count": null,
   "metadata": {},
   "outputs": [],
   "source": [
    "df = pd.read_csv(\"https://raw.githubusercontent.com/randyphoa/cpdflow/main/examples/german_credit_data_biased_training.csv\")\n",
    "target = \"Risk\"\n",
    "protected_attributes = [\"Age\"]"
   ]
  },
  {
   "cell_type": "markdown",
   "metadata": {},
   "source": [
    "## Scoring payload (required) and meta payload (optional)"
   ]
  },
  {
   "cell_type": "code",
   "execution_count": null,
   "metadata": {},
   "outputs": [],
   "source": [
    "num_records = 100\n",
    "df_sample = df.sample(num_records)\n",
    "\n",
    "df_meta = df_sample[protected_attributes]\n",
    "df_meta.to_csv(\"german_credit_risk_meta.csv\", index=False)\n",
    "display(df_meta.head())\n",
    "\n",
    "df_scoring = df_sample.drop([target] + protected_attributes, axis=1)\n",
    "df_scoring.to_csv(\"german_credit_risk_scoring.csv\", index=False)\n",
    "df_scoring.head()"
   ]
  },
  {
   "cell_type": "markdown",
   "metadata": {},
   "source": [
    "## Feedback payload (required)"
   ]
  },
  {
   "cell_type": "code",
   "execution_count": null,
   "metadata": {},
   "outputs": [],
   "source": [
    "df_feedback = df.sample(100)\n",
    "df_feedback.to_csv(\"german_credit_risk_feedback.csv\", index=False)\n",
    "df_feedback.head()"
   ]
  },
  {
   "cell_type": "markdown",
   "metadata": {},
   "source": [
    "## Configuration file"
   ]
  },
  {
   "cell_type": "code",
   "execution_count": null,
   "metadata": {},
   "outputs": [],
   "source": [
    "config = {\n",
    "    \"platform\": {\"apikey\": \"\", \"url\": \"https://us-south.ml.cloud.ibm.com\"},\n",
    "    \"ws\": {\"project_name\": \"Demo\"},\n",
    "    \"wml\": {\"dev_space\": \"Dev Space 3\", \"prod_space\": \"Prod Space\"},\n",
    "    \"wkc\": {\"catalog_name\": \"My Catalog\", \"model_entry_name\": \"German Credit Risk Model\", \"model_entry_description\": \"German Credit Risk Model Description\"},\n",
    "    \"cos\": {\n",
    "        \"cos_api_key\": \"\",\n",
    "        \"cos_resource_crn\": \"crn:v1:bluemix:public:iam-identity::a/53be0036a6fd4cdd9f4caca09dbcb6c9::serviceid:ServiceId-07cbf50f-45ec-4dfc-85b4-ea9fb3ce614f\",\n",
    "        \"cos_endpoint\": \"https://s3.us.cloud-object-storage.appdomain.cloud\",\n",
    "        \"bucket_name\": \"my-bucket\",\n",
    "        \"training_file_name\": \"german_credit_data_biased_training.csv\",\n",
    "    },\n",
    "    \"wos\": {\n",
    "        \"data_mart_id\": \"0adabc21-cf18-48c0-a36c-f7e3f3b092e8\",\n",
    "        \"dev_service_provider\": \"WML - Dev\",\n",
    "        \"prod_service_provider\": \"WML - Prod\",\n",
    "        \"custom_service_provider\": \"Custom WML Provider\",\n",
    "        \"custom_metric\": {\"custom_monitor_name\": \"Custom Metrics\", \"custom_metric_script\": \"custom-metric.py\", \"overwrite\": True,},\n",
    "        \"scoring_payload\": {\"file_name\": \"german_credit_risk_scoring.csv\"},\n",
    "        \"meta_payload\": {\"file_name\": \"german_credit_risk_meta.csv\"},\n",
    "        \"feedback_payload\": {\"file_name\": \"german_credit_risk_feedback.csv\"},\n",
    "        \"monitor_config\": {\n",
    "            \"quality\": {\"parameters\": {\"min_feedback_data_size\": 50}, \"thresholds\": [{\"metric_id\": \"area_under_roc\", \"type\": \"lower_limit\", \"value\": 0.9}]},\n",
    "            \"drift\": {\"parameters\": {\"min_samples\": 100, \"drift_threshold\": 0.1, \"train_drift_model\": True, \"enable_model_drift\": False, \"enable_data_drift\": True}},\n",
    "            \"fairness\": {\n",
    "                \"parameters\": {\n",
    "                    \"features\": [{\"feature\": \"Sex\", \"majority\": [\"male\"], \"minority\": [\"female\"], \"threshold\": 0.95}, {\"feature\": \"Age\", \"majority\": [[26, 75]], \"minority\": [[18, 25]]}],\n",
    "                    \"favourable_class\": [\"No Risk\"],\n",
    "                    \"unfavourable_class\": [\"Risk\"],\n",
    "                    \"min_records\": 100,\n",
    "                },\n",
    "                \"thresholds\": [\n",
    "                    {\"metric_id\": \"fairness_value\", \"specific_values\": [{\"applies_to\": [{\"type\": \"tag\", \"value\": \"Age\", \"key\": \"feature\"}], \"value\": 80}], \"type\": \"lower_limit\", \"value\": 80}\n",
    "                ],\n",
    "            },\n",
    "            \"explainability\": {\"parameters\": {\"enabled\": True}},\n",
    "        },\n",
    "    },\n",
    "    \"models\": {\n",
    "        \"model_configs\": [\n",
    "            {\"model_name\": \"German Credit Risk-SGD\", \"model_script\": \"german-credit-risk-sgd.py\", \"update\": True, \"overwrite\": True},\n",
    "            {\"model_name\": \"German Credit Risk-RF\", \"model_script\": \"german-credit-risk-rf.py\", \"update\": True, \"overwrite\": True},\n",
    "            {\"model_name\": \"German Credit Risk-SVC\", \"model_script\": \"german-credit-risk-svc.py\", \"update\": True, \"overwrite\": True},\n",
    "            {\"model_name\": \"German Credit Risk-GBC\", \"model_script\": \"german-credit-risk-gbc.py\", \"update\": True, \"overwrite\": True},\n",
    "            {\n",
    "                \"model_name\": \"German Credit Risk-custom\",\n",
    "                \"model_script\": \"german-credit-risk-custom.py\",\n",
    "                \"scoring_url\": \"http://ml-provider-ml.itzroks-550003aw18-xko3n2-6ccd7f378ae819553d37d5f2ee142bd6-0000.au-syd.containers.appdomain.cloud/predict\",\n",
    "                \"overwrite\": True,\n",
    "            },\n",
    "        ]\n",
    "    },\n",
    "}\n",
    "\n",
    "with open(\"config.json\", \"w\") as f:\n",
    "    json.dump(config, f, indent=4)\n",
    "\n",
    "config = cpdflow.init_config(config=config)\n"
   ]
  },
  {
   "cell_type": "markdown",
   "metadata": {},
   "source": [
    "## Develop\n",
    "\n",
    "Specify models in the Develop lifecycle stage."
   ]
  },
  {
   "cell_type": "code",
   "execution_count": null,
   "metadata": {},
   "outputs": [],
   "source": [
    "cpdflow.apply.develop(config=config, model_names=[\"German Credit Risk-SGD\"])"
   ]
  },
  {
   "cell_type": "markdown",
   "metadata": {},
   "source": [
    "## Deploy\n",
    "\n",
    "Specify models in the Deploy lifecycle stage."
   ]
  },
  {
   "cell_type": "code",
   "execution_count": null,
   "metadata": {},
   "outputs": [],
   "source": [
    "cpdflow.apply.deploy(config=config, model_names=[\"German Credit Risk-RF\"], space_type=\"dev\")"
   ]
  },
  {
   "cell_type": "markdown",
   "metadata": {},
   "source": [
    "## Validate\n",
    "\n",
    "Specify models in the Validate lifecycle stage."
   ]
  },
  {
   "cell_type": "code",
   "execution_count": null,
   "metadata": {},
   "outputs": [],
   "source": [
    "cpdflow.apply.validate(config=config, model_names=[\"German Credit Risk-SVC\", \"German Credit Risk-custom\"])"
   ]
  },
  {
   "cell_type": "markdown",
   "metadata": {},
   "source": [
    "## Operate\n",
    "\n",
    "Specify models in the Operate lifecycle stage."
   ]
  },
  {
   "cell_type": "code",
   "execution_count": null,
   "metadata": {},
   "outputs": [],
   "source": [
    "cpdflow.apply.operate(config=config, model_names=[\"German Credit Risk-GBC\"])"
   ]
  }
 ],
 "metadata": {
  "interpreter": {
   "hash": "088c4304f7ee7ca7ed8008628f3c62008ec8e8108c80186860df2f62b5debd0b"
  },
  "kernelspec": {
   "display_name": "Python 3.9.7 ('ml')",
   "language": "python",
   "name": "python3"
  },
  "language_info": {
   "codemirror_mode": {
    "name": "ipython",
    "version": 3
   },
   "file_extension": ".py",
   "mimetype": "text/x-python",
   "name": "python",
   "nbconvert_exporter": "python",
   "pygments_lexer": "ipython3",
   "version": "3.9.7"
  },
  "orig_nbformat": 4
 },
 "nbformat": 4,
 "nbformat_minor": 2
}
